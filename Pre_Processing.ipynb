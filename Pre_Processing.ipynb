{
  "nbformat": 4,
  "nbformat_minor": 0,
  "metadata": {
    "colab": {
      "name": "Pre_Processing.ipynb",
      "provenance": []
    },
    "kernelspec": {
      "name": "python3",
      "display_name": "Python 3"
    }
  },
  "cells": [
    {
      "cell_type": "markdown",
      "metadata": {
        "id": "qxqi30H5S5X7"
      },
      "source": [
        "The datasets chosen for Image classification are MNIST and CIFAR-10 and for Text\n",
        "Classification, IMDB Review Dataset is used. The main reason behind choosing such datasets is\n",
        "because they are also known as benchmark datasets specifically designed for research in academia.\n",
        "These datasets were suitable for our purpose as they had very little noise and were not skewed\n",
        "towards one class, which made them quite balanced, and hence pre-processing was much easier.\n",
        "\n",
        "\n",
        "\n",
        "\n"
      ]
    },
    {
      "cell_type": "markdown",
      "metadata": {
        "id": "Gv_LG3VUmlVS"
      },
      "source": [
        "# IMDB REVIEW DATASET\n",
        "\n",
        "This is a dataset for binary sentiment classification containing substantially more data than\n",
        "previous benchmark datasets. It contains 25,000 highly polar movie reviews for training and 25,000\n",
        "for testing.\n",
        "\n"
      ]
    },
    {
      "cell_type": "code",
      "metadata": {
        "id": "spxDL2SilMY2",
        "colab": {
          "base_uri": "https://localhost:8080/"
        },
        "outputId": "acf60e81-1379-4877-f62b-d19dae0ef6ae"
      },
      "source": [
        "#Mounting drive on Colab\n",
        "\n",
        "from google.colab import drive\n",
        "drive.mount('/gdrive', force_remount = True)"
      ],
      "execution_count": null,
      "outputs": [
        {
          "output_type": "stream",
          "text": [
            "Mounted at /gdrive\n"
          ],
          "name": "stdout"
        }
      ]
    },
    {
      "cell_type": "code",
      "metadata": {
        "id": "uE5qDJk4lbH9"
      },
      "source": [
        "from keras.datasets import imdb\n",
        "from keras.models import Sequential\n",
        "from keras.layers import Dense\n",
        "from keras.layers import Flatten\n",
        "from keras.layers.embeddings import Embedding\n",
        "from keras.preprocessing import sequence\n",
        "import numpy as np"
      ],
      "execution_count": null,
      "outputs": []
    },
    {
      "cell_type": "code",
      "metadata": {
        "id": "bhmsoUdBjFDv"
      },
      "source": [
        "#Loading IMDB Dataset from keras library\n",
        "\n",
        "(X_train_imdb, y_train_imdb), (X_test_imdb, y_test_imdb) = imdb.load_data()"
      ],
      "execution_count": null,
      "outputs": []
    },
    {
      "cell_type": "code",
      "metadata": {
        "colab": {
          "base_uri": "https://localhost:8080/"
        },
        "id": "DA9c8qVBn0ag",
        "outputId": "7fe358cb-d7fb-4e0c-da9d-a4499449581f"
      },
      "source": [
        "X_train.shape"
      ],
      "execution_count": null,
      "outputs": [
        {
          "output_type": "execute_result",
          "data": {
            "text/plain": [
              "(25000,)"
            ]
          },
          "metadata": {
            "tags": []
          },
          "execution_count": 35
        }
      ]
    },
    {
      "cell_type": "code",
      "metadata": {
        "id": "CDQF8CsNloKX"
      },
      "source": [
        "X = np.concatenate((X_train_imdb, X_test_imdb), axis=0)"
      ],
      "execution_count": null,
      "outputs": []
    },
    {
      "cell_type": "code",
      "metadata": {
        "id": "T7ZBQoPYWMCD"
      },
      "source": [
        "#Concatenate both train and test dataset and count the number of unique sentiments in the output labels.\n",
        "\n",
        "y = np.concatenate((y_train_imdb, y_test_imdb), axis=0)\n",
        "unique, counts = np.unique(y, return_counts=True)"
      ],
      "execution_count": null,
      "outputs": []
    },
    {
      "cell_type": "code",
      "metadata": {
        "colab": {
          "base_uri": "https://localhost:8080/",
          "height": 282
        },
        "id": "hkc1M55UakzY",
        "outputId": "ea4cb8af-cbd4-4899-c189-a707190f6f1e"
      },
      "source": [
        "import matplotlib.pyplot as plt \n",
        "\n",
        "#Visualize the number of positive and negative sentiments in the dataset using matplotlib.\n",
        "x = ['positive', 'negative']\n",
        "y = counts\n",
        "plt.style.use(['ggplot'])\n",
        "plt.bar(x, y) \n",
        "plt.xlabel('stars') \n",
        "plt.ylabel('no. of reviews') \n",
        "plt.show() "
      ],
      "execution_count": null,
      "outputs": [
        {
          "output_type": "display_data",
          "data": {
            "image/png": "[encoded data removed]",
            "text/plain": [
              "<Figure size 432x288 with 1 Axes>"
            ]
          },
          "metadata": {
            "tags": []
          }
        }
      ]
    },
    {
      "cell_type": "code",
      "metadata": {
        "colab": {
          "base_uri": "https://localhost:8080/"
        },
        "id": "ADp278UJlb2p",
        "outputId": "76306c26-01fb-44b4-8364-b1013bdae868"
      },
      "source": [
        "#Calculate total number of unique words in the reviews of the dataset\n",
        "print(\"Number of words: \")\n",
        "print(len(np.unique(np.hstack(X))))"
      ],
      "execution_count": null,
      "outputs": [
        {
          "output_type": "stream",
          "text": [
            "Number of words: \n",
            "88585\n"
          ],
          "name": "stdout"
        }
      ]
    },
    {
      "cell_type": "code",
      "metadata": {
        "colab": {
          "base_uri": "https://localhost:8080/",
          "height": 333
        },
        "id": "5MIgh08MmYQp",
        "outputId": "cb23aba8-e1d4-4908-fe76-16d66dcd16cc"
      },
      "source": [
        "print(\"Review length: \")\n",
        "print()\n",
        "\n",
        "#Print the mean and the standard deviation of the length of the reviews\n",
        "result = [len(x) for x in X]\n",
        "print(\"Mean %.2f words (%f)\" % (np.mean(result), np.std(result)))\n",
        "print()\n",
        "\n",
        "# Create a box plot for the length of the reviews in the dataset\n",
        "plt.boxplot(result)\n",
        "plt.show()"
      ],
      "execution_count": null,
      "outputs": [
        {
          "output_type": "stream",
          "text": [
            "Review length: \n",
            "\n",
            "Mean 234.76 words (172.911495)\n",
            "\n"
          ],
          "name": "stdout"
        },
        {
          "output_type": "display_data",
          "data": {
            "image/png": "[encoded data removed]",
            "text/plain": [
              "<Figure size 432x288 with 1 Axes>"
            ]
          },
          "metadata": {
            "tags": []
          }
        }
      ]
    },
    {
      "cell_type": "markdown",
      "metadata": {
        "id": "Ns0DnW9jUxIu"
      },
      "source": [
        "It is inferred from the above graph that most of the reviews range from the length of 0 to 500 words since the average review length is 234 with a S.D of (+/-)172.. Therefore, in order to make sure all of the reviews are of the same length, reviews longer than 500 words are truncated whereas shorter reviews are padded with zeroes."
      ]
    },
    {
      "cell_type": "code",
      "metadata": {
        "id": "7XWSyO4lk06z"
      },
      "source": [
        "#Loading dataset from imdb module of Keras with a vocabulary length of 5000. \n",
        "(X_train_imdb, y_train_imdb), (X_test_imdb, y_test_imdb) = imdb.load_data(num_words=5000)"
      ],
      "execution_count": null,
      "outputs": []
    },
    {
      "cell_type": "code",
      "metadata": {
        "id": "cO-ln8WNoPb3"
      },
      "source": [
        "#Padding text sequences shorter than 500 with zeroes in both train and test set.\n",
        "X_train_imdb = sequence.pad_sequences(X_train_imdb, maxlen=500)\n",
        "X_test_imdb = sequence.pad_sequences(X_test_imdb, maxlen=500)"
      ],
      "execution_count": null,
      "outputs": []
    },
    {
      "cell_type": "code",
      "metadata": {
        "id": "ooRA00tgTpRz"
      },
      "source": [
        "#Creating a list of names and NumPy Arrays\n",
        "nameLis = ['X_train_imdb', 'X_test_imdb', 'y_train_imdb', 'y_test_imdb']\n",
        "Data = [X_train_imdb, X_test_imdb, y_train_imdb, y_test_imdb]\n",
        "\n",
        "\n",
        "#To iterate over and save on drive\n",
        "for i, j in nameLis, Data:\n",
        "  np.save(r'/gdrive/My Drive/'+i, j)"
      ],
      "execution_count": null,
      "outputs": []
    },
    {
      "cell_type": "markdown",
      "metadata": {
        "id": "WIRK7It-4VQR"
      },
      "source": [
        "# MNIST Dataset\n",
        "\n",
        "All the images in the dataset are 28 x 28 grayscale images\n",
        "with intensity ranging from 0 to 255.\n",
        "\n",
        "\n",
        "There are 4 files:\n",
        "\n",
        "\n",
        "1. train-images-idx3-ubyte: training set images\n",
        "2. train-labels-idx1-ubyte: training set labels\n",
        "3. t10k-images-idx3-ubyte: test set images\n",
        "4. t10k-labels-idx1-ubyte: test set labels\n",
        "\n",
        "\n",
        "The training set contains 60000 examples, and the test set 10000 examples"
      ]
    },
    {
      "cell_type": "code",
      "metadata": {
        "id": "Kq4xqvPu4UYO"
      },
      "source": [
        "import os,codecs,numpy as np,gzip,shutil\n",
        "\n",
        "class process_mnist:\n",
        "    def __init__(self,path):\n",
        "    #Function to initialize the variables defined\n",
        "        self.path = path\n",
        "        self.dir = os.listdir(path)\n",
        "        self.no_of_items = 0\n",
        "        self.data_arr = {}\n",
        "        \n",
        "    def unzip(self):\n",
        "    #The following function unzips the files present in the path passed as a parameter \n",
        "    #according to their extension mentioned\n",
        "        for file in self.dir:\n",
        "            if file.endswith('gz'):\n",
        "                with gzip.open(self.path + \"/\" + file,'rb') as data_in:\n",
        "                    with open(self.path +\"/\" + file.split('.')[0],'wb') as data_out:\n",
        "                        shutil.copyfileobj(data_in,data_out)\n",
        "    \n",
        "    def create_arr(self):\n",
        "    #The following function reads the .ubyte file in the path provided and assigns\n",
        "    #category to each file as test or train and image or label according to the specified number in the file.\n",
        "        for file in self.dir:\n",
        "            if file.endswith(\"ubyte\"):\n",
        "                with open(self.path+\"/\"+file,'rb') as f:\n",
        "                    data = f.read()\n",
        "                    type = process_mnist.convert_int(self,data[0:4])\n",
        "                    no_of_items = process_mnist.convert_int(self,data[4:8])\n",
        "            \n",
        "                    if(type == 2051):\n",
        "                        category = \"image\"\n",
        "                        arr = process_mnist.extract_image(self,data,no_of_items)\n",
        "                    elif(type == 2049):\n",
        "                        category = \"label\"\n",
        "                        arr = process_mnist.extract_label(self,data,no_of_items)\n",
        "            \n",
        "                    if(no_of_items == 10000):\n",
        "                        key = \"test\"\n",
        "                    else:\n",
        "                        key = \"train\"\n",
        "                self.data_arr[key+\"_\"+category] = arr\n",
        "        print(self.data_arr.keys())\n",
        "            \n",
        "        \n",
        "    def convert_int(self,byte_data):\n",
        "    #Function toconvert hexadecimal code to integer value.\n",
        "        return int(codecs.encode(byte_data,'hex'),16)\n",
        "\n",
        "    def extract_image(self,data,no_of_items):\n",
        "    #TODO:\n",
        "    #Convert 4 bits of data sequentially to integer values \n",
        "    #And reshape arrays to shape of (no_of_items * rows * cols) \n",
        "        rows = process_mnist.convert_int(self,data[8:12])\n",
        "        cols = process_mnist.convert_int(self,data[12:16])\n",
        "        arr = np.frombuffer(data,dtype=np.uint8,offset=16)\n",
        "        arr = arr.reshape(no_of_items,rows,cols)\n",
        "        return arr\n",
        "\n",
        "    def extract_label(self,data,no_of_items):\n",
        "        arr = np.frombuffer(data,dtype=np.uint8,offset=8)\n",
        "        arr = arr.reshape(no_of_items)\n",
        "        return arr"
      ],
      "execution_count": null,
      "outputs": []
    },
    {
      "cell_type": "code",
      "metadata": {
        "id": "MiS_rVb_7oXW",
        "colab": {
          "base_uri": "https://localhost:8080/"
        },
        "outputId": "5f3de4af-705a-4b76-9602-3afab44ef789"
      },
      "source": [
        "#Initializing variable path and creating object \"data\"\n",
        "path = '/gdrive/My Drive/Mnist_data'\n",
        "data = process_mnist(path)\n",
        "\n",
        "#Calling function \"Unzip\" and \"Create_arr\".\n",
        "data.unzip()\n",
        "data.create_arr()"
      ],
      "execution_count": null,
      "outputs": [
        {
          "output_type": "stream",
          "text": [
            "dict_keys(['test_label', 'test_image', 'train_image', 'train_label'])\n"
          ],
          "name": "stdout"
        }
      ]
    },
    {
      "cell_type": "code",
      "metadata": {
        "id": "Pt3hypkmBBH_"
      },
      "source": [
        "#Stor train and test images, labels in their respective variables. \n",
        "X_train_mnist = data.data_arr['train_image']\n",
        "X_test_mnist = data.data_arr['test_image']\n",
        "y_train_mnist = data.data_arr['train_label']\n",
        "y_test_mnist = data.data_arr['test_label']"
      ],
      "execution_count": null,
      "outputs": []
    },
    {
      "cell_type": "code",
      "metadata": {
        "colab": {
          "base_uri": "https://localhost:8080/",
          "height": 265
        },
        "id": "cjfuRB66NIzQ",
        "outputId": "335e0ca8-2c81-4c18-8eb4-f3fcf16e8030"
      },
      "source": [
        " from matplotlib import pyplot as plt\n",
        "import numpy as np\n",
        "import random\n",
        "\n",
        "#Randomy plotting sample of MNIST train dataset in matplotlib\n",
        "\n",
        "first_image = X_train_mnist[random.randint(0, 39999)]\n",
        "first_image = np.array(first_image, dtype='float')\n",
        "pixels = first_image.reshape((28, 28))\n",
        "plt.style.use(['ggplot'])\n",
        "plt.imshow(pixels)\n",
        "plt.show()"
      ],
      "execution_count": null,
      "outputs": [
        {
          "output_type": "display_data",
          "data": {
            "image/png": "[encoded data removed]",
            "text/plain": [
              "<Figure size 432x288 with 1 Axes>"
            ]
          },
          "metadata": {
            "tags": []
          }
        }
      ]
    },
    {
      "cell_type": "markdown",
      "metadata": {
        "id": "illt0bbvCJiG"
      },
      "source": [
        "# CIFAR-10 Dataset"
      ]
    },
    {
      "cell_type": "code",
      "metadata": {
        "colab": {
          "base_uri": "https://localhost:8080/"
        },
        "id": "-TyRfmExCAeX",
        "outputId": "df64a4ae-9414-48cc-fea5-5abdc985545e"
      },
      "source": [
        "import tensorflow as tf\n",
        "\n",
        "from tensorflow.keras import datasets\n",
        "\n",
        "#Importing cifar-10 dataset from tensorlow as train and test set.\n",
        "(train_images, train_labels), (test_images, test_labels) = datasets.cifar10.load_data()"
      ],
      "execution_count": null,
      "outputs": [
        {
          "output_type": "stream",
          "text": [
            "Downloading data from https://www.cs.toronto.edu/~kriz/cifar-10-python.tar.gz\n",
            "170500096/170498071 [==============================] - 2s 0us/step\n"
          ],
          "name": "stdout"
        }
      ]
    },
    {
      "cell_type": "code",
      "metadata": {
        "id": "bNcG6ZLnER3R"
      },
      "source": [
        "#Storing dataset in their repsective variables\n",
        "X_train_cifar = train_images\n",
        "y_train_cifar = train_labels\n",
        "X_test_cifar = test_images\n",
        "y_test_cifar = test_labels"
      ],
      "execution_count": null,
      "outputs": []
    },
    {
      "cell_type": "code",
      "metadata": {
        "colab": {
          "base_uri": "https://localhost:8080/",
          "height": 266
        },
        "id": "qOqtZLVMNlkO",
        "outputId": "c3692f43-27d4-4037-e17d-78036255660c"
      },
      "source": [
        "from matplotlib import pyplot as plt\n",
        "import random\n",
        "\n",
        "#Randomly plotting train set sample from CIFAR-10 in matplotlib\n",
        "\n",
        "plt.style.use(['ggplot'])\n",
        "plt.imshow(X_train_cifar[random.randint(0,39999)])\n",
        "plt.show()"
      ],
      "execution_count": null,
      "outputs": [
        {
          "output_type": "display_data",
          "data": {
            "image/png": "[encoded data removed]",
            "text/plain": [
              "<Figure size 432x288 with 1 Axes>"
            ]
          },
          "metadata": {
            "tags": []
          }
        }
      ]
    },
    {
      "cell_type": "markdown",
      "metadata": {
        "id": "u3kQNLj4FkE-"
      },
      "source": [
        "# Pickle Files"
      ]
    },
    {
      "cell_type": "code",
      "metadata": {
        "id": "fW-4EFdAFjVF"
      },
      "source": [
        "import pickle\n",
        "\n",
        "#Initializing two list \"lis\" and \"lisName\" with dataset and their names repectively \n",
        "lis = [X_train_imdb, X_test_imdb, y_train_imdb, y_test_imdb, X_train_mnist, X_test_mnist, y_train_mnist, y_test_mnist, X_train_cifar, X_test_cifar, y_train_cifar, y_test_cifar]\n",
        "lisName = ['X_train_imdb', 'X_test_imdb', 'y_train_imdb', 'y_test_imdb', 'X_train_mnist', 'X_test_mnist', 'y_train_mnist', 'y_test_mnist', 'X_train_cifar', 'X_test_cifar', 'y_train_cifar', 'y_test_cifar']\n",
        "\n",
        "#Iterate over both of the above lists and pickle them to store in the google drive \n",
        "for i in range(0, len(lisName)):\n",
        "  with open(\"/gdrive/My Drive/\" + lisName[i] + \".pkl\",'wb') as f: pickle.dump(lis[i], f)"
      ],
      "execution_count": null,
      "outputs": []
    }
  ]
}